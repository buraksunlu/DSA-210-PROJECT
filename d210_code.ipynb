{
 "cells": [
  {
   "cell_type": "markdown",
   "id": "e41f9a9d",
   "metadata": {},
   "source": [
    "# Steam Two-Week Data Analysis\n",
    "This notebook reads the Steam two-week dataset, performs data cleaning, visualizations, and hypothesis testing to compare games with vs without Turkish language support."
   ]
  },
  {
   "cell_type": "code",
   "execution_count": null,
   "id": "9bd81183",
   "metadata": {},
   "outputs": [],
   "source": [
    "%matplotlib inline\n",
    "import pandas as pd\n",
    "import numpy as np\n",
    "import matplotlib.pyplot as plt\n",
    "from scipy.stats import ttest_ind"
   ]
  },
  {
   "cell_type": "code",
   "execution_count": null,
   "id": "1945cc5d",
   "metadata": {},
   "outputs": [],
   "source": [
    "# 1. Load the data\n",
    "df = pd.read_excel('Steam_TwoWeeks_Data.xlsx')\n",
    "df.columns = ['Date', 'Game', 'Turkish_Support', 'Average_Players', 'Peak_Players', 'Review_Score', 'Price_USD']\n",
    "df['Date'] = pd.to_datetime(df['Date'], errors='coerce')\n",
    "df.head()"
   ]
  },
  {
   "cell_type": "code",
   "execution_count": null,
   "id": "397879f1",
   "metadata": {},
   "outputs": [],
   "source": [
    "# 2. Data Cleaning\n",
    "print('Missing values before cleaning:')\n",
    "print(df.isnull().sum(), '\\n')\n",
    "df = df.dropna(subset=['Date', 'Game', 'Turkish_Support', 'Average_Players'])\n",
    "df['Average_Players'] = pd.to_numeric(df['Average_Players'], errors='coerce')\n",
    "df['Peak_Players'] = pd.to_numeric(df['Peak_Players'], errors='coerce')\n",
    "df['Price_USD'] = pd.to_numeric(df['Price_USD'], errors='coerce')\n",
    "df = df.dropna(subset=['Average_Players', 'Peak_Players', 'Price_USD'])\n",
    "print('Missing values after cleaning:')\n",
    "print(df.isnull().sum(), '\\n')"
   ]
  },
  {
   "cell_type": "code",
   "execution_count": null,
   "id": "595f9442",
   "metadata": {},
   "outputs": [],
   "source": [
    "# 3. Label Turkish support\n",
    "df['Is_Turkish_Supported'] = df['Turkish_Support'].str.lower() == 'yes'\n",
    "df[['Game','Turkish_Support','Is_Turkish_Supported']].drop_duplicates()"
   ]
  },
  {
   "cell_type": "code",
   "execution_count": null,
   "id": "3419e263",
   "metadata": {},
   "outputs": [],
   "source": [
    "# 4. Histogram of Average Players\n",
    "plt.figure(figsize=(8, 4))\n",
    "plt.hist(df['Average_Players'], bins=10, edgecolor='black')\n",
    "plt.title('Distribution of Average Concurrent Players')\n",
    "plt.xlabel('Average Concurrent Players')\n",
    "plt.ylabel('Frequency')\n",
    "plt.show()"
   ]
  },
  {
   "cell_type": "code",
   "execution_count": null,
   "id": "dcb7771d",
   "metadata": {},
   "outputs": [],
   "source": [
    "# 5. Boxplot comparing groups\n",
    "turkish = df[df['Is_Turkish_Supported']]['Average_Players']\n",
    "non_turkish = df[~df['Is_Turkish_Supported']]['Average_Players']\n",
    "fig, ax = plt.subplots(figsize=(6, 4))\n",
    "ax.boxplot([non_turkish, turkish], vert=False, labels=['No Turkish Support', 'Turkish Support'])\n",
    "ax.set_xlabel('Average Concurrent Players')\n",
    "ax.set_title('Player Counts by Turkish Support')\n",
    "ax.grid(True)\n",
    "plt.show()"
   ]
  },
  {
   "cell_type": "code",
   "execution_count": null,
   "id": "45ca7d38",
   "metadata": {},
   "outputs": [],
   "source": [
    "# 6. Bar chart of mean average players\n",
    "means = df.groupby('Is_Turkish_Supported')['Average_Players'].mean()\n",
    "means.index = ['No Turkish Support', 'Turkish Support']\n",
    "plt.figure(figsize=(6,4))\n",
    "means.plot(kind='bar', edgecolor='black')\n",
    "plt.title('Mean Average Concurrent Players')\n",
    "plt.ylabel('Mean Average Concurrent Players')\n",
    "plt.show()"
   ]
  },
  {
   "cell_type": "code",
   "execution_count": null,
   "id": "be0712db",
   "metadata": {},
   "outputs": [],
   "source": [
    "# 7. Hypothesis testing\n",
    "t_stat, p_val = ttest_ind(turkish, non_turkish, equal_var=False)\n",
    "print(f'T-statistic: {t_stat:.2f}')\n",
    "print(f'P-value: {p_val:.6f}')\n",
    "print('\\nMean Average Players:')\n",
    "print(f'No Turkish Support: {non_turkish.mean():.2f}')\n",
    "print(f'Turkish Support:    {turkish.mean():.2f}')"
   ]
  }
 ],
 "metadata": {},
 "nbformat": 4,
 "nbformat_minor": 5
}
